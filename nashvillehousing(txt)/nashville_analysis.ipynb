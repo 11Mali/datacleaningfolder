{
 "cells": [
  {
   "cell_type": "markdown",
   "metadata": {},
   "source": [
    "### Analysis of Nashville housing dataset"
   ]
  },
  {
   "cell_type": "code",
   "execution_count": null,
   "metadata": {},
   "outputs": [],
   "source": [
    "#import libraries\n",
    "import pandas as pd\n",
    "import numpy as np\n",
    "import re"
   ]
  },
  {
   "cell_type": "code",
   "execution_count": null,
   "metadata": {},
   "outputs": [],
   "source": [
    "#import csv\n",
    "df = pd.read_csv(\"/home/mali/datacleaning_validation/nashvillehousing(txt)/Nashville Housing Data for Data Cleaning (reuploaded).csv\", delimiter= \";\")"
   ]
  },
  {
   "cell_type": "code",
   "execution_count": null,
   "metadata": {},
   "outputs": [],
   "source": [
    "#data types, memory usage, and data range\n",
    "df.info()"
   ]
  },
  {
   "cell_type": "code",
   "execution_count": null,
   "metadata": {},
   "outputs": [],
   "source": [
    "#removing missing/null values from dataframe\n",
    "df = df.dropna()"
   ]
  },
  {
   "cell_type": "code",
   "execution_count": null,
   "metadata": {},
   "outputs": [],
   "source": [
    "#changing datatypes\n",
    "#downcast to reduce memory usage of the data in the columns\n",
    "\n",
    "def inter(column):\n",
    "    pattern = r\"[^0-9]\" #pattern for excluding numbers\n",
    "    column = column.replace(pattern, \"\", regex=True)\n",
    "    return pd.to_numeric(column, downcast=\"integer\").convert_dtypes()\n",
    "\n",
    "def date_format(column):\n",
    "    column = pd.to_datetime(column)\n",
    "    column = column.dt.strftime(\"%d-%m-%Y\")\n",
    "    return column\n",
    "\n",
    "def year_format(column):\n",
    "    column = pd.to_numeric(column, downcast=\"integer\").convert_dtypes()\n",
    "    column = pd.to_datetime(column, format = \"%Y\")\n",
    "    column = column.dt.strftime(\"%Y\")\n",
    "    return column\n",
    "\n",
    "def to_bool(column):\n",
    "    column = column.replace({\"No\":\"False\", \"N\":\"False\"})\n",
    "    column = column.replace({\"Yes\":\"True\", \"Y\":\"True\"})\n",
    "    return column\n",
    "def to_float(column):\n",
    "    column = column.str.replace(\",\",\".\")\n",
    "    column = pd.to_numeric(column, downcast=\"float\")\n",
    "    return column\n"
   ]
  },
  {
   "cell_type": "code",
   "execution_count": null,
   "metadata": {},
   "outputs": [],
   "source": [
    "df[\"SalePrice\"] = inter(df[\"SalePrice\"]) #Int\n",
    "df[\"LandValue\"] = inter(df[\"LandValue\"]) #Int\n",
    "df[\"BuildingValue\"] = inter(df[\"BuildingValue\"]) #Int\n",
    "df[\"TotalValue\"] = inter(df[\"TotalValue\"]) #Int\n",
    "df[\"Acreage\"] = to_float(df[\"Acreage\"]) #float\n",
    "\n",
    "df[\"Bedrooms\"] = inter(df[\"Bedrooms\"]) #Int\n",
    "df[\"FullBath\"] = inter(df[\"FullBath\"]) #Int\n",
    "df[\"HalfBath\"] = inter(df[\"HalfBath\"]) #Int\n",
    "\n",
    "df[\"SaleDate\"] = date_format(df[\"SaleDate\"])#obj\n",
    "df[\"YearBuilt\"] = year_format(df[\"YearBuilt\"])#obj\n",
    "\n",
    "df[\"SoldAsVacant\"] = to_bool(df[\"SoldAsVacant\"])#Obj\n"
   ]
  },
  {
   "cell_type": "markdown",
   "metadata": {},
   "source": [
    "### Data transformation"
   ]
  },
  {
   "cell_type": "code",
   "execution_count": null,
   "metadata": {},
   "outputs": [],
   "source": [
    "#checking the catagorical values to see if there are unexpected values\n",
    "print(f\"{df[\"TaxDistrict\"].unique()}\\n\\n{df[\"LandUse\"].unique()}\\n\\n{df[\"TaxDistrict\"].unique()} \")"
   ]
  },
  {
   "cell_type": "code",
   "execution_count": null,
   "metadata": {},
   "outputs": [],
   "source": [
    "#replacing GREENBELT/RES\\r\\nGRRENBELT/RES as it seems to be a duplicate of GREENBELT/RES\n",
    "df[\"LandUse\"] = df[\"LandUse\"].replace({\"GREENBELT/RES\\r\\nGRRENBELT/RES\":\"GREENBELT/RES\"})\n",
    "\n",
    "#replacing \"&\" with \",\" in \"OwnerName\" // replacing \".\" with \" \" in \"OwnerName\"\n",
    "df[\"OwnerName\"] = df[\"OwnerName\"].str.replace(\"&\",\",\").str.replace(\".\",\"\")"
   ]
  },
  {
   "cell_type": "code",
   "execution_count": null,
   "metadata": {},
   "outputs": [],
   "source": [
    "#split \"PropertyAddress\" into \"streetAddress\" and \"City\"\n",
    "df[[\"StreetAddress\", \"City\"]] = df[\"PropertyAddress\"].str.split(\", \", expand=True)\n",
    "\n",
    "#split \"PropertyAddress\" into \"streetAddress\" and \"City\"\n",
    "df[[\"OwnerStreetAddress\", \"OwnerCity\",\"OwnerState\"]] = df[\"OwnerAddress\"].str.split(\", \", expand=True)\n",
    "\n",
    "#drop old columns\n",
    "#drop OwnerState as 100% were from TN\n",
    "df = df.drop(columns=[\"PropertyAddress\",\"OwnerAddress\",\"OwnerState\"])\n",
    "\n"
   ]
  },
  {
   "cell_type": "markdown",
   "metadata": {},
   "source": [
    "#### Outliers"
   ]
  },
  {
   "cell_type": "markdown",
   "metadata": {},
   "source": [
    "##### Based on the prelim analysis it was determined for there to be outliers in these columns \"SalePrice\", \"Acreage\", \"landValue\", \"BuildingValue\", \"TotalValue\", \"Bedrooms\", \"FullBath\"\n",
    "\n",
    "Most of these may be connected by certain entries in the dataset\n",
    "\n"
   ]
  },
  {
   "cell_type": "code",
   "execution_count": null,
   "metadata": {},
   "outputs": [],
   "source": [
    "def outlier(df,column):\n",
    "    # calculate IQR for column Height\n",
    "    Q1 = df[column].quantile(0.25)\n",
    "    Q3 = df[column].quantile(0.75)\n",
    "    IQR = Q3 - Q1\n",
    "\n",
    "    # identify outliers\n",
    "    threshold = 1.5\n",
    "    outliers = df[(df[column] < Q1 - threshold * IQR) | (df[column] > Q3 + threshold * IQR)]\n",
    "    # drop rows containing outliers\n",
    "    df = df.drop(outliers.index)\n",
    "    return df\n"
   ]
  },
  {
   "cell_type": "code",
   "execution_count": null,
   "metadata": {},
   "outputs": [],
   "source": [
    "df = outlier(df,\"LandValue\")\n",
    "df = outlier(df,\"BuildingValue\")\n",
    "df = outlier(df,\"TotalValue\")\n",
    "\n",
    "df = outlier(df,\"SalePrice\")\n",
    "df = outlier(df,\"Acreage\")\n",
    "\n",
    "df = outlier(df,\"Bedrooms\")\n",
    "df = outlier(df,\"FullBath\")"
   ]
  },
  {
   "cell_type": "markdown",
   "metadata": {},
   "source": [
    "#### Validation of data"
   ]
  },
  {
   "cell_type": "code",
   "execution_count": null,
   "metadata": {},
   "outputs": [],
   "source": [
    "df.describe()"
   ]
  },
  {
   "cell_type": "markdown",
   "metadata": {},
   "source": [
    "#### Conclusion drawn in results.md"
   ]
  },
  {
   "cell_type": "markdown",
   "metadata": {},
   "source": []
  }
 ],
 "metadata": {
  "kernelspec": {
   "display_name": ".venv",
   "language": "python",
   "name": "python3"
  },
  "language_info": {
   "codemirror_mode": {
    "name": "ipython",
    "version": 3
   },
   "file_extension": ".py",
   "mimetype": "text/x-python",
   "name": "python",
   "nbconvert_exporter": "python",
   "pygments_lexer": "ipython3",
   "version": "3.12.3"
  }
 },
 "nbformat": 4,
 "nbformat_minor": 2
}
